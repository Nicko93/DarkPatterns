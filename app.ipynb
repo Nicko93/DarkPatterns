{
 "cells": [
  {
   "cell_type": "code",
   "execution_count": 5,
   "id": "fdb28aff",
   "metadata": {},
   "outputs": [
    {
     "name": "stdout",
     "output_type": "stream",
     "text": [
      "Collecting virtualenv\n",
      "  Downloading virtualenv-20.25.0-py3-none-any.whl (3.8 MB)\n",
      "     ---------------------------------------- 3.8/3.8 MB 2.0 MB/s eta 0:00:00\n",
      "Requirement already satisfied: platformdirs<5,>=3.9.1 in c:\\users\\hp\\anaconda3\\lib\\site-packages (from virtualenv) (3.10.0)\n",
      "Collecting distlib<1,>=0.3.7\n",
      "  Downloading distlib-0.3.8-py2.py3-none-any.whl (468 kB)\n",
      "     -------------------------------------- 468.9/468.9 kB 2.9 MB/s eta 0:00:00\n",
      "Requirement already satisfied: filelock<4,>=3.12.2 in c:\\users\\hp\\anaconda3\\lib\\site-packages (from virtualenv) (3.13.1)\n",
      "Installing collected packages: distlib, virtualenv\n",
      "Successfully installed distlib-0.3.8 virtualenv-20.25.0\n",
      "Note: you may need to restart the kernel to use updated packages.\n"
     ]
    }
   ],
   "source": [
    "pip install virtualenv"
   ]
  },
  {
   "cell_type": "code",
   "execution_count": 6,
   "id": "5e64e9a5",
   "metadata": {},
   "outputs": [
    {
     "name": "stdout",
     "output_type": "stream",
     "text": [
      "Collecting flask-cors\n",
      "  Downloading Flask_Cors-4.0.0-py2.py3-none-any.whl (14 kB)\n",
      "Collecting Flask>=0.9\n",
      "  Downloading flask-3.0.2-py3-none-any.whl (101 kB)\n",
      "     ------------------------------------ 101.3/101.3 kB 322.9 kB/s eta 0:00:00\n",
      "Collecting Werkzeug>=3.0.0\n",
      "  Downloading werkzeug-3.0.1-py3-none-any.whl (226 kB)\n",
      "     ------------------------------------ 226.7/226.7 kB 629.2 kB/s eta 0:00:00\n",
      "Collecting itsdangerous>=2.1.2\n",
      "  Downloading itsdangerous-2.1.2-py3-none-any.whl (15 kB)\n",
      "Requirement already satisfied: click>=8.1.3 in c:\\users\\hp\\anaconda3\\lib\\site-packages (from Flask>=0.9->flask-cors) (8.1.7)\n",
      "Requirement already satisfied: Jinja2>=3.1.2 in c:\\users\\hp\\anaconda3\\lib\\site-packages (from Flask>=0.9->flask-cors) (3.1.2)\n",
      "Collecting blinker>=1.6.2\n",
      "  Downloading blinker-1.7.0-py3-none-any.whl (13 kB)\n",
      "Requirement already satisfied: colorama in c:\\users\\hp\\anaconda3\\lib\\site-packages (from click>=8.1.3->Flask>=0.9->flask-cors) (0.4.6)\n",
      "Requirement already satisfied: MarkupSafe>=2.0 in c:\\users\\hp\\anaconda3\\lib\\site-packages (from Jinja2>=3.1.2->Flask>=0.9->flask-cors) (2.1.1)\n",
      "Installing collected packages: Werkzeug, itsdangerous, blinker, Flask, flask-cors\n",
      "Successfully installed Flask-3.0.2 Werkzeug-3.0.1 blinker-1.7.0 flask-cors-4.0.0 itsdangerous-2.1.2\n",
      "Note: you may need to restart the kernel to use updated packages.\n"
     ]
    }
   ],
   "source": [
    "pip install flask-cors\n"
   ]
  },
  {
   "cell_type": "code",
   "execution_count": 7,
   "id": "e715091a",
   "metadata": {},
   "outputs": [
    {
     "name": "stdout",
     "output_type": "stream",
     "text": [
      "Requirement already satisfied: joblib in c:\\users\\hp\\anaconda3\\lib\\site-packages (1.3.2)\n",
      "Requirement already satisfied: scikit-learn in c:\\users\\hp\\anaconda3\\lib\\site-packages (1.3.2)\n",
      "Requirement already satisfied: threadpoolctl>=2.0.0 in c:\\users\\hp\\anaconda3\\lib\\site-packages (from scikit-learn) (3.2.0)\n",
      "Requirement already satisfied: numpy<2.0,>=1.17.3 in c:\\users\\hp\\anaconda3\\lib\\site-packages (from scikit-learn) (1.26.3)\n",
      "Requirement already satisfied: scipy>=1.5.0 in c:\\users\\hp\\anaconda3\\lib\\site-packages (from scikit-learn) (1.11.4)\n",
      "Note: you may need to restart the kernel to use updated packages.\n"
     ]
    }
   ],
   "source": [
    "pip install joblib scikit-learn\n"
   ]
  },
  {
   "cell_type": "code",
   "execution_count": null,
   "id": "ef2a9cf3",
   "metadata": {},
   "outputs": [
    {
     "name": "stdout",
     "output_type": "stream",
     "text": [
      " * Serving Flask app '__main__'\n",
      " * Debug mode: off\n"
     ]
    },
    {
     "name": "stderr",
     "output_type": "stream",
     "text": [
      "WARNING: This is a development server. Do not use it in a production deployment. Use a production WSGI server instead.\n",
      " * Running on all addresses (0.0.0.0)\n",
      " * Running on http://127.0.0.1:5000\n",
      " * Running on http://192.168.1.14:5000\n",
      "Press CTRL+C to quit\n",
      "127.0.0.1 - - [27/Feb/2024 12:59:42] \"OPTIONS / HTTP/1.1\" 200 -\n",
      "127.0.0.1 - - [27/Feb/2024 12:59:43] \"POST / HTTP/1.1\" 200 -\n"
     ]
    },
    {
     "name": "stdout",
     "output_type": "stream",
     "text": [
      "\n",
      "0\n",
      "{ 'result': ['Not Dark', 'Not Dark', 'Not Dark', 'Not Dark', 'Not Dark', 'Not Dark', 'Not Dark', 'Not Dark', 'Not Dark', 'Not Dark', 'Not Dark', 'Not Dark', 'Not Dark', 'Not Dark', 'Not Dark', 'Not Dark', 'Not Dark', 'Not Dark', 'Not Dark', 'Social Proof', 'Urgency', 'Not Dark', 'Not Dark', 'Not Dark', 'Not Dark', 'Not Dark', 'Not Dark', 'Not Dark', 'Not Dark', 'Not Dark', 'Urgency', 'Not Dark', 'Not Dark', 'Not Dark', 'Not Dark', 'Not Dark', 'Not Dark', 'Not Dark', 'Not Dark', 'Not Dark', 'Not Dark', 'Not Dark', 'Not Dark', 'Not Dark', 'Not Dark', 'Not Dark', 'Not Dark', 'Not Dark', 'Not Dark', 'Not Dark', 'Not Dark', 'Not Dark', 'Not Dark', 'Not Dark', 'Not Dark', 'Not Dark', 'Not Dark', 'Not Dark', 'Not Dark', 'Not Dark', 'Not Dark', 'Not Dark', 'Not Dark', 'Not Dark', 'Not Dark', 'Not Dark', 'Not Dark', 'Not Dark', 'Scarcity', 'Not Dark', 'Urgency', 'Not Dark', 'Scarcity', 'Not Dark', 'Not Dark', 'Not Dark', 'Not Dark', 'Not Dark', 'Not Dark', 'Not Dark', 'Not Dark', 'Not Dark', 'Not Dark', 'Not Dark', 'Not Dark', 'Not Dark', 'Not Dark', 'Not Dark', 'Not Dark', 'Not Dark', 'Not Dark', 'Not Dark', 'Not Dark', 'Not Dark', 'Not Dark', 'Not Dark', 'Not Dark', 'Not Dark', 'Not Dark', 'Not Dark', 'Not Dark', 'Not Dark', 'Not Dark', 'Urgency', 'Not Dark', 'Not Dark', 'Not Dark', 'Not Dark', 'Not Dark', 'Urgency', 'Not Dark', 'Not Dark', 'Not Dark', 'Not Dark', 'Not Dark', 'Urgency', 'Not Dark', 'Not Dark', 'Not Dark', 'Not Dark', 'Not Dark', 'Urgency', 'Not Dark', 'Not Dark', 'Not Dark', 'Not Dark', 'Not Dark', 'Not Dark', 'Not Dark', 'Not Dark', 'Not Dark', 'Not Dark', 'Not Dark', 'Not Dark', 'Not Dark', 'Not Dark', 'Not Dark', 'Not Dark', 'Not Dark', 'Not Dark', 'Not Dark', 'Not Dark', 'Not Dark', 'Not Dark', 'Not Dark', 'Not Dark', 'Not Dark', 'Not Dark', 'Not Dark', 'Not Dark', 'Not Dark', 'Not Dark', 'Not Dark', 'Not Dark', 'Not Dark', 'Urgency', 'Not Dark', 'Not Dark', 'Not Dark', 'Not Dark', 'Not Dark', 'Urgency', 'Not Dark', 'Not Dark', 'Not Dark', 'Not Dark', 'Not Dark', 'Not Dark', 'Not Dark', 'Not Dark', 'Not Dark', 'Not Dark', 'Not Dark', 'Not Dark', 'Not Dark', 'Not Dark', 'Not Dark', 'Not Dark', 'Not Dark', 'Social Proof', 'Not Dark', 'Scarcity', 'Not Dark', 'Not Dark', 'Not Dark', 'Not Dark', 'Not Dark', 'Not Dark', 'Not Dark', 'Not Dark', 'Not Dark', 'Not Dark', 'Not Dark', 'Not Dark', 'Not Dark', 'Not Dark', 'Not Dark', 'Not Dark', 'Not Dark', 'Not Dark', 'Not Dark', 'Not Dark', 'Not Dark', 'Not Dark', 'Not Dark', 'Not Dark', 'Not Dark', 'Not Dark', 'Not Dark', 'Not Dark', 'Not Dark', 'Not Dark', 'Not Dark', 'Not Dark', 'Not Dark', 'Scarcity', 'Social Proof', 'Not Dark', 'Not Dark', 'Not Dark', 'Not Dark', 'Not Dark', 'Not Dark', 'Not Dark', 'Not Dark', 'Not Dark', 'Not Dark', 'Not Dark', 'Not Dark', 'Not Dark', 'Scarcity', 'Not Dark', 'Not Dark', 'Not Dark', 'Misdirection', 'Not Dark', 'Not Dark', 'Urgency', 'Not Dark', 'Not Dark', 'Not Dark', 'Not Dark', 'Not Dark', 'Not Dark', 'Social Proof', 'Not Dark', 'Not Dark', 'Not Dark', 'Not Dark', 'Not Dark', 'Not Dark', 'Social Proof', 'Not Dark', 'Not Dark', 'Not Dark', 'Not Dark', 'Not Dark', 'Not Dark', 'Not Dark', 'Social Proof', 'Not Dark', 'Not Dark', 'Not Dark', 'Not Dark', 'Not Dark', 'Not Dark', 'Not Dark', 'Not Dark', 'Not Dark', 'Not Dark', 'Not Dark', 'Not Dark', 'Not Dark', 'Not Dark', 'Not Dark', 'Not Dark', 'Not Dark', 'Not Dark', 'Not Dark', 'Not Dark', 'Not Dark', 'Not Dark', 'Not Dark', 'Not Dark', 'Not Dark', 'Not Dark', 'Not Dark', 'Not Dark', 'Not Dark', 'Not Dark', 'Not Dark', 'Urgency', 'Not Dark', 'Not Dark', 'Not Dark', 'Social Proof', 'Urgency', 'Not Dark'] }\n"
     ]
    }
   ],
   "source": [
    "from flask import Flask, jsonify, request\n",
    "from flask_cors import CORS\n",
    "from joblib import load\n",
    "\n",
    "presence_classifier = load('presence_classifer.joblib')\n",
    "presence_vect = load('presence_vectorizer.joblib')\n",
    "category_classifier = load('category_classifier.joblib')\n",
    "category_vect = load('category_vectorizer.joblib')\n",
    "\n",
    "app = Flask(__name__)\n",
    "CORS(app)\n",
    "\n",
    "@app.route('/', methods=['POST'])\n",
    "def main():\n",
    "    if request.method == 'POST':\n",
    "        output = []\n",
    "        data = request.get_json().get('tokens')\n",
    "\n",
    "        for token in data:\n",
    "            result = presence_classifier.predict(presence_vect.transform([token]))\n",
    "            if result == 'Dark':\n",
    "                cat = category_classifier.predict(category_vect.transform([token]))\n",
    "                output.append(cat[0])\n",
    "            else:\n",
    "                output.append(result[0])\n",
    "\n",
    "        dark = [data[i] for i in range(len(output)) if output[i] == 'Dark']\n",
    "        for d in dark:\n",
    "            print(d)\n",
    "        print()\n",
    "        print(len(dark))\n",
    "\n",
    "        message = '{ \\'result\\': ' + str(output) + ' }'\n",
    "        print(message)\n",
    "\n",
    "        json = jsonify(message)\n",
    "\n",
    "        return json\n",
    "\n",
    "if __name__ == '__main__':\n",
    "    app.run(host='0.0.0.0')"
   ]
  },
  {
   "cell_type": "code",
   "execution_count": null,
   "id": "beba8ef0",
   "metadata": {},
   "outputs": [],
   "source": []
  },
  {
   "cell_type": "code",
   "execution_count": null,
   "id": "ef11cfa5",
   "metadata": {},
   "outputs": [],
   "source": []
  }
 ],
 "metadata": {
  "kernelspec": {
   "display_name": "Python 3 (ipykernel)",
   "language": "python",
   "name": "python3"
  },
  "language_info": {
   "codemirror_mode": {
    "name": "ipython",
    "version": 3
   },
   "file_extension": ".py",
   "mimetype": "text/x-python",
   "name": "python",
   "nbconvert_exporter": "python",
   "pygments_lexer": "ipython3",
   "version": "3.10.13"
  }
 },
 "nbformat": 4,
 "nbformat_minor": 5
}
